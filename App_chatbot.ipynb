{
 "cells": [
  {
   "cell_type": "code",
   "execution_count": 37,
   "id": "cbd4b7c3-0aa9-4fd0-8e3d-9bc21d5fefd8",
   "metadata": {},
   "outputs": [
    {
     "name": "stderr",
     "output_type": "stream",
     "text": [
      "WARNING:absl:Compiled the loaded model, but the compiled metrics have yet to be built. `model.compile_metrics` will be empty until you train or evaluate the model.\n"
     ]
    }
   ],
   "source": [
    "# Import the Natural Language Toolkit library for text processing\n",
    "import nltk\n",
    "# Import WordNetLemmatizer for reducing words to their base form\n",
    "from nltk.stem import WordNetLemmatizer\n",
    "# Initialize the lemmatizer object\n",
    "lemmatizer = WordNetLemmatizer()\n",
    "# Import pickle for loading serialized Python objects\n",
    "import pickle\n",
    "# Import numpy for numerical operations\n",
    "import numpy as np\n",
    "\n",
    "# Import the Keras function to load a pre-trained model\n",
    "from tensorflow.keras.models import load_model\n",
    "# Load the chatbot model from a saved file\n",
    "model = load_model('chatbot_model.h5')\n",
    "# Import json for parsing JSON data\n",
    "import json\n",
    "# Import random for generating random selections\n",
    "import random\n",
    "# Load the questions/intents data from a JSON file\n",
    "quests = json.loads(open('quest.json').read())\n",
    "# Load the vocabulary (bag of words) from a pickle file\n",
    "words = pickle.load(open('words1.pkl','rb'))\n",
    "# Load the intent categories/classes from a pickle file\n",
    "classes = pickle.load(open('classes1.pkl','rb'))"
   ]
  },
  {
   "cell_type": "code",
   "execution_count": 39,
   "id": "a8503325-f307-4908-a539-2afe81b43829",
   "metadata": {},
   "outputs": [],
   "source": [
    "def clean_up_sentence(sentence):\n",
    "    # Tokenize the pattern - split sentence into individual words\n",
    "    sentence_words = nltk.word_tokenize(sentence)\n",
    "    # Lemmatize each word - reduce words to their base/root form and convert to lowercase\n",
    "    sentence_words = [lemmatizer.lemmatize(word.lower()) for word in sentence_words]\n",
    "    return sentence_words\n",
    "\n",
    "# Convert a sentence into a bag of words representation (binary vector)\n",
    "def bow(sentence, words, show_details=True):\n",
    "    # Process the input sentence into tokens and lemmatized words\n",
    "    sentence_words = clean_up_sentence(sentence)\n",
    "    # Initialize the bag vector with zeros (length = vocabulary size)\n",
    "    bag = [0]*len(words)  \n",
    "    for s in sentence_words:\n",
    "        for i,w in enumerate(words):\n",
    "            if w == s: \n",
    "                # Mark the word as present (1) in the bag vector at the vocabulary position\n",
    "                bag[i] = 1\n",
    "                if show_details:\n",
    "                    print (\"found in bag: %s\" % w)\n",
    "    # Return the bag of words as a numpy array\n",
    "    return(np.array(bag))"
   ]
  },
  {
   "cell_type": "code",
   "execution_count": 41,
   "id": "4e09d72e-2512-4303-89ca-c9106c4cc36d",
   "metadata": {},
   "outputs": [],
   "source": [
    "def predict_class(sentence, model):\n",
    "    # Convert input sentence to bag-of-words representation\n",
    "    p = bow(sentence, words, show_details=False)\n",
    "    \n",
    "    # Make prediction using the neural network model\n",
    "    res = model.predict(np.array([p]))[0]\n",
    "    \n",
    "    # Set minimum confidence threshold for predictions\n",
    "    ERROR_THRESHOLD = 0.25\n",
    "    \n",
    "    # Filter predictions that exceed the confidence threshold\n",
    "    results = [[i,r] for i,r in enumerate(res) if r>ERROR_THRESHOLD]\n",
    "    \n",
    "    # Sort predictions by probability in descending order\n",
    "    results.sort(key=lambda x: x[1], reverse=True)\n",
    "    \n",
    "    # Format results as a list of dictionaries with intent class and probability\n",
    "    return_list = []\n",
    "    for r in results:\n",
    "        return_list.append({\"quest\": classes[r[0]], \"probability\": str(r[1])})\n",
    "    return return_list\n",
    "\n",
    "def getResponse(ints, quests_json):\n",
    "    # Extract the highest confidence intent tag\n",
    "    tag = ints[0]['quest']\n",
    "    \n",
    "    # Get the list of all intents from the JSON data\n",
    "    list_of_quests = quests_json['quests']\n",
    "    \n",
    "    # Find the matching intent and select a random response\n",
    "    for i in list_of_quests:\n",
    "        if(i['tag']== tag):\n",
    "            result = random.choice(i['responses'])\n",
    "            break\n",
    "    return result\n",
    "\n",
    "def chatbot_response(msg):\n",
    "    # Process user input to identify intent\n",
    "    ints = predict_class(msg, model)\n",
    "    \n",
    "    # Get appropriate response based on identified intent\n",
    "    res = getResponse(ints, quests)\n",
    "    return res"
   ]
  },
  {
   "cell_type": "code",
   "execution_count": 43,
   "id": "732b45d1-1182-456f-a607-c09ec256cc1f",
   "metadata": {},
   "outputs": [
    {
     "data": {
      "text/plain": [
       "''"
      ]
     },
     "execution_count": 43,
     "metadata": {},
     "output_type": "execute_result"
    }
   ],
   "source": [
    "# Creating GUI with tkinter\n",
    "import tkinter as tk\n",
    "from tkinter import *\n",
    "\n",
    "\n",
    "def send():\n",
    "    # Get message from the entry box and remove whitespace\n",
    "    msg = EntryBox.get(\"1.0\",'end-1c').strip()\n",
    "    # Clear the entry box\n",
    "    EntryBox.delete(\"0.0\",END)\n",
    "\n",
    "    if msg != '':\n",
    "        # Enable the chat log for editing\n",
    "        ChatLog.config(state=NORMAL)\n",
    "        # Add user message to chat log\n",
    "        ChatLog.insert(END, \"You: \" + msg + '\\n\\n')\n",
    "        # Set text formatting for the chat log\n",
    "        ChatLog.config(foreground=\"#442265\", font=(\"Verdana\", 12 ))\n",
    "    \n",
    "        # Get response from chatbot\n",
    "        res = chatbot_response(msg)\n",
    "        # Add bot response to chat log\n",
    "        ChatLog.insert(END, \"Bot: \" + res + '\\n\\n')\n",
    "            \n",
    "        # Disable chat log for editing\n",
    "        ChatLog.config(state=DISABLED)\n",
    "        # Auto-scroll to the end of chat log\n",
    "        ChatLog.yview(END)\n",
    " \n",
    "\n",
    "# Create the main window\n",
    "base = Tk()\n",
    "# Set window title\n",
    "base.title(\"Chatbot\")\n",
    "# Set window dimensions\n",
    "base.geometry(\"600x550\")\n",
    "# Disable window resizing\n",
    "base.resizable(width=FALSE, height=FALSE)"
   ]
  },
  {
   "cell_type": "code",
   "execution_count": 29,
   "id": "482ad3e2-533d-4fcf-b4e6-1b82e8e46f6f",
   "metadata": {},
   "outputs": [
    {
     "name": "stdout",
     "output_type": "stream",
     "text": [
      "\u001b[1m1/1\u001b[0m \u001b[32m━━━━━━━━━━━━━━━━━━━━\u001b[0m\u001b[37m\u001b[0m \u001b[1m0s\u001b[0m 42ms/step\n",
      "\u001b[1m1/1\u001b[0m \u001b[32m━━━━━━━━━━━━━━━━━━━━\u001b[0m\u001b[37m\u001b[0m \u001b[1m0s\u001b[0m 42ms/step\n",
      "\u001b[1m1/1\u001b[0m \u001b[32m━━━━━━━━━━━━━━━━━━━━\u001b[0m\u001b[37m\u001b[0m \u001b[1m0s\u001b[0m 42ms/step\n"
     ]
    }
   ],
   "source": [
    "#Create Chat window\n",
    "\n",
    "ChatLog = Text(base, bd=0, bg=\"white\", height=\"240\", width=\"150\", font=\"Arial\")\n",
    "\n",
    "ChatLog.config(state=DISABLED)\n",
    "#label = tk.Label(root, text=\"Hi! How may I help you?\")\n",
    "#Bind scrollbar to Chat window\n",
    "scrollbar = Scrollbar(base, command=ChatLog.yview, cursor=\"heart\")\n",
    "ChatLog['yscrollcommand'] = scrollbar.set\n",
    "\n",
    "#Create Button to send message\n",
    "SendButton = Button(base, font=(\"Verdana\",12,'bold'), text=\"Send\", width=\"12\", height=5,\n",
    "                    bd=0, bg=\"#25cdf7\", activebackground=\"#3c9d9b\",fg='#ffffff',\n",
    "                    command= send )\n",
    "\n",
    "#Create the box to enter message\n",
    "EntryBox = Text(base, bd=0, bg=\"white\",width=\"99\", height=\"5\", font=\"Arial\")\n",
    "tk.Label(text=\"Hi!\").grid(column=0, row=0)\n",
    "\n",
    "\n",
    "#Place all components on the screen\n",
    "scrollbar.place(x=575,y=6, height=450)\n",
    "ChatLog.place(x=6,y=6, height=450, width=570)\n",
    "EntryBox.place(x=6, y=470, height=100, width=460)\n",
    "SendButton.place(x=455, y=470, height=100)\n",
    "base.mainloop()"
   ]
  },
  {
   "cell_type": "code",
   "execution_count": null,
   "id": "b1be1882-7be4-4d32-a4af-b0d49af6edbb",
   "metadata": {},
   "outputs": [],
   "source": []
  },
  {
   "cell_type": "code",
   "execution_count": null,
   "id": "0498d920-8149-4840-aad8-1aaa0b916f09",
   "metadata": {},
   "outputs": [],
   "source": []
  }
 ],
 "metadata": {
  "kernelspec": {
   "display_name": "Python [conda env:base] *",
   "language": "python",
   "name": "conda-base-py"
  },
  "language_info": {
   "codemirror_mode": {
    "name": "ipython",
    "version": 3
   },
   "file_extension": ".py",
   "mimetype": "text/x-python",
   "name": "python",
   "nbconvert_exporter": "python",
   "pygments_lexer": "ipython3",
   "version": "3.12.7"
  }
 },
 "nbformat": 4,
 "nbformat_minor": 5
}
